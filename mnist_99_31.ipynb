{
  "nbformat": 4,
  "nbformat_minor": 0,
  "metadata": {
    "colab": {
      "name": "mnist_99_31",
      "version": "0.3.2",
      "provenance": [],
      "collapsed_sections": [],
      "include_colab_link": true
    },
    "kernelspec": {
      "name": "python3",
      "display_name": "Python 3"
    }
  },
  "cells": [
    {
      "cell_type": "markdown",
      "metadata": {
        "id": "view-in-github",
        "colab_type": "text"
      },
      "source": [
        "<a href=\"https://colab.research.google.com/github/monimoyd/1stDNN/blob/master/mnist_99_31.ipynb\" target=\"_parent\"><img src=\"https://colab.research.google.com/assets/colab-badge.svg\" alt=\"Open In Colab\"/></a>"
      ]
    },
    {
      "metadata": {
        "id": "jXgBeMJDEy8w",
        "colab_type": "code",
        "colab": {
          "base_uri": "https://localhost:8080/",
          "height": 35
        },
        "outputId": "c3d4c9da-bbce-4468-d389-dd9e28e32ad5"
      },
      "cell_type": "code",
      "source": [
        "# https://keras.io/\n",
        "!pip install -q keras\n",
        "import keras"
      ],
      "execution_count": 1,
      "outputs": [
        {
          "output_type": "stream",
          "text": [
            "Using TensorFlow backend.\n"
          ],
          "name": "stderr"
        }
      ]
    },
    {
      "metadata": {
        "id": "vl6O6xXhGyaS",
        "colab_type": "code",
        "colab": {}
      },
      "cell_type": "code",
      "source": [
        "import numpy as np\n",
        "\n",
        "from keras.models import Sequential\n",
        "from keras.layers import Dense, Dropout, Activation, Flatten, Add\n",
        "from keras.layers import Convolution2D, MaxPooling2D,AveragePooling2D\n",
        "from keras.utils import np_utils\n",
        "\n",
        "from keras.datasets import mnist"
      ],
      "execution_count": 0,
      "outputs": []
    },
    {
      "metadata": {
        "id": "PfTPYdd_G4od",
        "colab_type": "code",
        "colab": {
          "base_uri": "https://localhost:8080/",
          "height": 53
        },
        "outputId": "234d16a9-71fc-4ea8-d9bb-12f553404a9e"
      },
      "cell_type": "code",
      "source": [
        "(X_train, y_train), (X_test, y_test) = mnist.load_data()"
      ],
      "execution_count": 3,
      "outputs": [
        {
          "output_type": "stream",
          "text": [
            "Downloading data from https://s3.amazonaws.com/img-datasets/mnist.npz\n",
            "11493376/11490434 [==============================] - 0s 0us/step\n"
          ],
          "name": "stdout"
        }
      ]
    },
    {
      "metadata": {
        "id": "7G8aEx7IG_o2",
        "colab_type": "code",
        "colab": {
          "base_uri": "https://localhost:8080/",
          "height": 301
        },
        "outputId": "6a598a04-86b5-45d7-dc71-2744eede9555"
      },
      "cell_type": "code",
      "source": [
        "print (X_train.shape)\n",
        "from matplotlib import pyplot as plt\n",
        "%matplotlib inline\n",
        "plt.imshow(X_train[0])"
      ],
      "execution_count": 4,
      "outputs": [
        {
          "output_type": "stream",
          "text": [
            "(60000, 28, 28)\n"
          ],
          "name": "stdout"
        },
        {
          "output_type": "execute_result",
          "data": {
            "text/plain": [
              "<matplotlib.image.AxesImage at 0x7f36b211a668>"
            ]
          },
          "metadata": {
            "tags": []
          },
          "execution_count": 4
        },
        {
          "output_type": "display_data",
          "data": {
            "image/png": "[encoded data removed]",
            "text/plain": [
              "<Figure size 432x288 with 1 Axes>"
            ]
          },
          "metadata": {
            "tags": []
          }
        }
      ]
    },
    {
      "metadata": {
        "id": "thGaPs5bHIBt",
        "colab_type": "code",
        "colab": {}
      },
      "cell_type": "code",
      "source": [
        "X_train = X_train.reshape(X_train.shape[0], 28, 28,1)\n",
        "X_test = X_test.reshape(X_test.shape[0], 28, 28,1)"
      ],
      "execution_count": 0,
      "outputs": []
    },
    {
      "metadata": {
        "id": "GB_c2v6jHNc3",
        "colab_type": "code",
        "colab": {}
      },
      "cell_type": "code",
      "source": [
        "X_train = X_train.astype('float32')\n",
        "X_test = X_test.astype('float32')\n",
        "X_train /= 255\n",
        "X_test /= 255"
      ],
      "execution_count": 0,
      "outputs": []
    },
    {
      "metadata": {
        "id": "4B7JuYKsHSTw",
        "colab_type": "code",
        "colab": {}
      },
      "cell_type": "code",
      "source": [
        "# Convert 1-dimensional class arrays to 10-dimensional class matrices\n",
        "Y_train = np_utils.to_categorical(y_train, 10)\n",
        "Y_test = np_utils.to_categorical(y_test, 10)"
      ],
      "execution_count": 0,
      "outputs": []
    },
    {
      "metadata": {
        "id": "sJTw27rjHZeM",
        "colab_type": "code",
        "colab": {
          "base_uri": "https://localhost:8080/",
          "height": 199
        },
        "outputId": "383ce549-2b43-4437-8362-30db4981f31b"
      },
      "cell_type": "code",
      "source": [
        "Y_train[:10]"
      ],
      "execution_count": 8,
      "outputs": [
        {
          "output_type": "execute_result",
          "data": {
            "text/plain": [
              "array([[0., 0., 0., 0., 0., 1., 0., 0., 0., 0.],\n",
              "       [1., 0., 0., 0., 0., 0., 0., 0., 0., 0.],\n",
              "       [0., 0., 0., 0., 1., 0., 0., 0., 0., 0.],\n",
              "       [0., 1., 0., 0., 0., 0., 0., 0., 0., 0.],\n",
              "       [0., 0., 0., 0., 0., 0., 0., 0., 0., 1.],\n",
              "       [0., 0., 1., 0., 0., 0., 0., 0., 0., 0.],\n",
              "       [0., 1., 0., 0., 0., 0., 0., 0., 0., 0.],\n",
              "       [0., 0., 0., 1., 0., 0., 0., 0., 0., 0.],\n",
              "       [0., 1., 0., 0., 0., 0., 0., 0., 0., 0.],\n",
              "       [0., 0., 0., 0., 1., 0., 0., 0., 0., 0.]], dtype=float32)"
            ]
          },
          "metadata": {
            "tags": []
          },
          "execution_count": 8
        }
      ]
    },
    {
      "metadata": {
        "id": "eUz7vyqtHey_",
        "colab_type": "code",
        "colab": {}
      },
      "cell_type": "code",
      "source": [
        "from keras.layers import AveragePooling2D\n",
        "from keras.layers import SeparableConv2D\n",
        "model = Sequential()\n",
        "\n",
        "\n",
        "model.add(Convolution2D(32, (3, 3), activation='relu', input_shape=(28,28,1)))\n",
        "model.add(SeparableConv2D(64, (3, 3), activation='relu'))\n",
        "model.add(SeparableConv2D(64, (3, 3), activation='relu'))\n",
        "model.add(SeparableConv2D(64, (3, 3), activation='relu'))\n",
        "model.add(Convolution2D(32, 1, activation='relu'))\n",
        "model.add(MaxPooling2D())\n",
        "model.add(SeparableConv2D(32, (3, 3), activation='relu'))\n",
        "model.add(SeparableConv2D(32, (3, 3), activation='relu'))\n",
        "model.add(SeparableConv2D(32, (3, 3)))\n",
        "model.add(SeparableConv2D(32, (3, 3)))\n",
        "model.add(AveragePooling2D())\n",
        "model.add(Convolution2D(10, 1))\n",
        "\n",
        "model.add(Flatten())\n",
        "model.add(Activation('softmax'))"
      ],
      "execution_count": 0,
      "outputs": []
    },
    {
      "metadata": {
        "id": "FvKPQw--IaMi",
        "colab_type": "code",
        "colab": {
          "base_uri": "https://localhost:8080/",
          "height": 655
        },
        "outputId": "124dbaaf-5f97-47a4-e717-db5290b0389b"
      },
      "cell_type": "code",
      "source": [
        "model.summary()"
      ],
      "execution_count": 19,
      "outputs": [
        {
          "output_type": "stream",
          "text": [
            "_________________________________________________________________\n",
            "Layer (type)                 Output Shape              Param #   \n",
            "=================================================================\n",
            "conv2d_13 (Conv2D)           (None, 26, 26, 32)        320       \n",
            "_________________________________________________________________\n",
            "separable_conv2d_25 (Separab (None, 24, 24, 64)        2400      \n",
            "_________________________________________________________________\n",
            "separable_conv2d_26 (Separab (None, 22, 22, 64)        4736      \n",
            "_________________________________________________________________\n",
            "separable_conv2d_27 (Separab (None, 20, 20, 64)        4736      \n",
            "_________________________________________________________________\n",
            "conv2d_14 (Conv2D)           (None, 20, 20, 32)        2080      \n",
            "_________________________________________________________________\n",
            "max_pooling2d_5 (MaxPooling2 (None, 10, 10, 32)        0         \n",
            "_________________________________________________________________\n",
            "separable_conv2d_28 (Separab (None, 8, 8, 32)          1344      \n",
            "_________________________________________________________________\n",
            "separable_conv2d_29 (Separab (None, 6, 6, 32)          1344      \n",
            "_________________________________________________________________\n",
            "separable_conv2d_30 (Separab (None, 4, 4, 32)          1344      \n",
            "_________________________________________________________________\n",
            "separable_conv2d_31 (Separab (None, 2, 2, 32)          1344      \n",
            "_________________________________________________________________\n",
            "average_pooling2d_5 (Average (None, 1, 1, 32)          0         \n",
            "_________________________________________________________________\n",
            "conv2d_15 (Conv2D)           (None, 1, 1, 10)          330       \n",
            "_________________________________________________________________\n",
            "flatten_5 (Flatten)          (None, 10)                0         \n",
            "_________________________________________________________________\n",
            "activation_5 (Activation)    (None, 10)                0         \n",
            "=================================================================\n",
            "Total params: 19,978\n",
            "Trainable params: 19,978\n",
            "Non-trainable params: 0\n",
            "_________________________________________________________________\n"
          ],
          "name": "stdout"
        }
      ]
    },
    {
      "metadata": {
        "id": "vXvJ7nB3JwB1",
        "colab_type": "code",
        "colab": {}
      },
      "cell_type": "code",
      "source": [
        "model.compile(loss='categorical_crossentropy',\n",
        "             optimizer='adam',\n",
        "             metrics=['accuracy'])"
      ],
      "execution_count": 0,
      "outputs": []
    },
    {
      "metadata": {
        "id": "Do4Ju-AAJ2vR",
        "colab_type": "code",
        "colab": {
          "base_uri": "https://localhost:8080/",
          "height": 4700
        },
        "outputId": "de25ac26-ad2a-4987-b1b4-8806a5159d90"
      },
      "cell_type": "code",
      "source": [
        "model.fit(X_train, Y_train, batch_size=2048, nb_epoch=125, verbose=1)"
      ],
      "execution_count": 21,
      "outputs": [
        {
          "output_type": "stream",
          "text": [
            "WARNING:tensorflow:From /usr/local/lib/python3.6/dist-packages/tensorflow/python/ops/math_ops.py:3066: to_int32 (from tensorflow.python.ops.math_ops) is deprecated and will be removed in a future version.\n",
            "Instructions for updating:\n",
            "Use tf.cast instead.\n"
          ],
          "name": "stdout"
        },
        {
          "output_type": "stream",
          "text": [
            "/usr/local/lib/python3.6/dist-packages/ipykernel_launcher.py:1: UserWarning: The `nb_epoch` argument in `fit` has been renamed `epochs`.\n",
            "  \"\"\"Entry point for launching an IPython kernel.\n"
          ],
          "name": "stderr"
        },
        {
          "output_type": "stream",
          "text": [
            "Epoch 1/125\n",
            "60000/60000 [==============================] - 278s 5ms/step - loss: 2.3019 - acc: 0.1098\n",
            "Epoch 2/125\n",
            "60000/60000 [==============================] - 274s 5ms/step - loss: 2.3014 - acc: 0.1124\n",
            "Epoch 3/125\n",
            "60000/60000 [==============================] - 273s 5ms/step - loss: 2.3012 - acc: 0.1124\n",
            "Epoch 4/125\n",
            "60000/60000 [==============================] - 272s 5ms/step - loss: 2.3012 - acc: 0.1124\n",
            "Epoch 5/125\n",
            "60000/60000 [==============================] - 277s 5ms/step - loss: 2.1897 - acc: 0.1900\n",
            "Epoch 6/125\n",
            "60000/60000 [==============================] - 286s 5ms/step - loss: 1.1812 - acc: 0.6178\n",
            "Epoch 7/125\n",
            "60000/60000 [==============================] - 283s 5ms/step - loss: 0.7314 - acc: 0.7734\n",
            "Epoch 8/125\n",
            "60000/60000 [==============================] - 271s 5ms/step - loss: 0.5148 - acc: 0.8409\n",
            "Epoch 9/125\n",
            "60000/60000 [==============================] - 269s 4ms/step - loss: 0.3989 - acc: 0.8778\n",
            "Epoch 10/125\n",
            "60000/60000 [==============================] - 270s 5ms/step - loss: 0.3256 - acc: 0.9009\n",
            "Epoch 11/125\n",
            "60000/60000 [==============================] - 269s 4ms/step - loss: 0.2841 - acc: 0.9136\n",
            "Epoch 12/125\n",
            "60000/60000 [==============================] - 271s 5ms/step - loss: 0.2509 - acc: 0.9237\n",
            "Epoch 13/125\n",
            "60000/60000 [==============================] - 272s 5ms/step - loss: 0.2275 - acc: 0.9301\n",
            "Epoch 14/125\n",
            "60000/60000 [==============================] - 270s 5ms/step - loss: 0.2099 - acc: 0.9371\n",
            "Epoch 15/125\n",
            "60000/60000 [==============================] - 270s 4ms/step - loss: 0.1926 - acc: 0.9403\n",
            "Epoch 16/125\n",
            "60000/60000 [==============================] - 266s 4ms/step - loss: 0.1824 - acc: 0.9434\n",
            "Epoch 17/125\n",
            "60000/60000 [==============================] - 269s 4ms/step - loss: 0.1709 - acc: 0.9478\n",
            "Epoch 18/125\n",
            "60000/60000 [==============================] - 272s 5ms/step - loss: 0.1571 - acc: 0.9519\n",
            "Epoch 19/125\n",
            "60000/60000 [==============================] - 272s 5ms/step - loss: 0.1488 - acc: 0.9542\n",
            "Epoch 20/125\n",
            "60000/60000 [==============================] - 271s 5ms/step - loss: 0.1403 - acc: 0.9565\n",
            "Epoch 21/125\n",
            "60000/60000 [==============================] - 271s 5ms/step - loss: 0.1350 - acc: 0.9584\n",
            "Epoch 22/125\n",
            "60000/60000 [==============================] - 271s 5ms/step - loss: 0.1274 - acc: 0.9611\n",
            "Epoch 23/125\n",
            "60000/60000 [==============================] - 270s 5ms/step - loss: 0.1194 - acc: 0.9635\n",
            "Epoch 24/125\n",
            "60000/60000 [==============================] - 269s 4ms/step - loss: 0.1167 - acc: 0.9639\n",
            "Epoch 25/125\n",
            "60000/60000 [==============================] - 272s 5ms/step - loss: 0.1114 - acc: 0.9663\n",
            "Epoch 26/125\n",
            "60000/60000 [==============================] - 271s 5ms/step - loss: 0.1065 - acc: 0.9670\n",
            "Epoch 27/125\n",
            "60000/60000 [==============================] - 271s 5ms/step - loss: 0.1010 - acc: 0.9690\n",
            "Epoch 28/125\n",
            "60000/60000 [==============================] - 270s 5ms/step - loss: 0.0984 - acc: 0.9697\n",
            "Epoch 29/125\n",
            "60000/60000 [==============================] - 269s 4ms/step - loss: 0.0943 - acc: 0.9716\n",
            "Epoch 30/125\n",
            "60000/60000 [==============================] - 270s 5ms/step - loss: 0.0936 - acc: 0.9717\n",
            "Epoch 31/125\n",
            "60000/60000 [==============================] - 271s 5ms/step - loss: 0.0899 - acc: 0.9725\n",
            "Epoch 32/125\n",
            "60000/60000 [==============================] - 271s 5ms/step - loss: 0.0862 - acc: 0.9735\n",
            "Epoch 33/125\n",
            "60000/60000 [==============================] - 272s 5ms/step - loss: 0.0824 - acc: 0.9750\n",
            "Epoch 34/125\n",
            "60000/60000 [==============================] - 271s 5ms/step - loss: 0.0823 - acc: 0.9749\n",
            "Epoch 35/125\n",
            "60000/60000 [==============================] - 271s 5ms/step - loss: 0.0787 - acc: 0.9759\n",
            "Epoch 36/125\n",
            "60000/60000 [==============================] - 270s 5ms/step - loss: 0.0775 - acc: 0.9762\n",
            "Epoch 37/125\n",
            "60000/60000 [==============================] - 268s 4ms/step - loss: 0.0750 - acc: 0.9773\n",
            "Epoch 38/125\n",
            "60000/60000 [==============================] - 272s 5ms/step - loss: 0.0730 - acc: 0.9775\n",
            "Epoch 39/125\n",
            "60000/60000 [==============================] - 271s 5ms/step - loss: 0.0713 - acc: 0.9784\n",
            "Epoch 40/125\n",
            "60000/60000 [==============================] - 269s 4ms/step - loss: 0.0703 - acc: 0.9787\n",
            "Epoch 41/125\n",
            "60000/60000 [==============================] - 272s 5ms/step - loss: 0.0686 - acc: 0.9789\n",
            "Epoch 42/125\n",
            "60000/60000 [==============================] - 269s 4ms/step - loss: 0.0660 - acc: 0.9797\n",
            "Epoch 43/125\n",
            "60000/60000 [==============================] - 270s 4ms/step - loss: 0.0669 - acc: 0.9792\n",
            "Epoch 44/125\n",
            "60000/60000 [==============================] - 271s 5ms/step - loss: 0.0668 - acc: 0.9797\n",
            "Epoch 45/125\n",
            "60000/60000 [==============================] - 271s 5ms/step - loss: 0.0636 - acc: 0.9806\n",
            "Epoch 46/125\n",
            "60000/60000 [==============================] - 270s 5ms/step - loss: 0.0596 - acc: 0.9814\n",
            "Epoch 47/125\n",
            "60000/60000 [==============================] - 269s 4ms/step - loss: 0.0597 - acc: 0.9813\n",
            "Epoch 48/125\n",
            "60000/60000 [==============================] - 272s 5ms/step - loss: 0.0574 - acc: 0.9823\n",
            "Epoch 49/125\n",
            "60000/60000 [==============================] - 270s 4ms/step - loss: 0.0594 - acc: 0.9814\n",
            "Epoch 50/125\n",
            "60000/60000 [==============================] - 270s 5ms/step - loss: 0.0569 - acc: 0.9827\n",
            "Epoch 51/125\n",
            "60000/60000 [==============================] - 272s 5ms/step - loss: 0.0542 - acc: 0.9835\n",
            "Epoch 52/125\n",
            "60000/60000 [==============================] - 269s 4ms/step - loss: 0.0536 - acc: 0.9833\n",
            "Epoch 53/125\n",
            "60000/60000 [==============================] - 272s 5ms/step - loss: 0.0541 - acc: 0.9830\n",
            "Epoch 54/125\n",
            "60000/60000 [==============================] - 272s 5ms/step - loss: 0.0547 - acc: 0.9831\n",
            "Epoch 55/125\n",
            "60000/60000 [==============================] - 271s 5ms/step - loss: 0.0515 - acc: 0.9842\n",
            "Epoch 56/125\n",
            "60000/60000 [==============================] - 270s 4ms/step - loss: 0.0495 - acc: 0.9848\n",
            "Epoch 57/125\n",
            "60000/60000 [==============================] - 270s 4ms/step - loss: 0.0493 - acc: 0.9849\n",
            "Epoch 58/125\n",
            "60000/60000 [==============================] - 270s 5ms/step - loss: 0.0500 - acc: 0.9846\n",
            "Epoch 59/125\n",
            "60000/60000 [==============================] - 271s 5ms/step - loss: 0.0509 - acc: 0.9847\n",
            "Epoch 60/125\n",
            "60000/60000 [==============================] - 271s 5ms/step - loss: 0.0482 - acc: 0.9854\n",
            "Epoch 61/125\n",
            "60000/60000 [==============================] - 271s 5ms/step - loss: 0.0461 - acc: 0.9854\n",
            "Epoch 62/125\n",
            "60000/60000 [==============================] - 270s 4ms/step - loss: 0.0452 - acc: 0.9860\n",
            "Epoch 63/125\n",
            "60000/60000 [==============================] - 272s 5ms/step - loss: 0.0463 - acc: 0.9858\n",
            "Epoch 64/125\n",
            "60000/60000 [==============================] - 272s 5ms/step - loss: 0.0450 - acc: 0.9862\n",
            "Epoch 65/125\n",
            "60000/60000 [==============================] - 274s 5ms/step - loss: 0.0429 - acc: 0.9867\n",
            "Epoch 66/125\n",
            "60000/60000 [==============================] - 271s 5ms/step - loss: 0.0427 - acc: 0.9867\n",
            "Epoch 67/125\n",
            "60000/60000 [==============================] - 270s 5ms/step - loss: 0.0430 - acc: 0.9864\n",
            "Epoch 68/125\n",
            "60000/60000 [==============================] - 271s 5ms/step - loss: 0.0434 - acc: 0.9867\n",
            "Epoch 69/125\n",
            "60000/60000 [==============================] - 272s 5ms/step - loss: 0.0425 - acc: 0.9871\n",
            "Epoch 70/125\n",
            "60000/60000 [==============================] - 272s 5ms/step - loss: 0.0432 - acc: 0.9860\n",
            "Epoch 71/125\n",
            "60000/60000 [==============================] - 274s 5ms/step - loss: 0.0393 - acc: 0.9876\n",
            "Epoch 72/125\n",
            "60000/60000 [==============================] - 272s 5ms/step - loss: 0.0424 - acc: 0.9867\n",
            "Epoch 73/125\n",
            "60000/60000 [==============================] - 271s 5ms/step - loss: 0.0425 - acc: 0.9864\n",
            "Epoch 74/125\n",
            "60000/60000 [==============================] - 270s 4ms/step - loss: 0.0381 - acc: 0.9880\n",
            "Epoch 75/125\n",
            "60000/60000 [==============================] - 269s 4ms/step - loss: 0.0389 - acc: 0.9876\n",
            "Epoch 76/125\n",
            "60000/60000 [==============================] - 271s 5ms/step - loss: 0.0398 - acc: 0.9875\n",
            "Epoch 77/125\n",
            "60000/60000 [==============================] - 270s 5ms/step - loss: 0.0359 - acc: 0.9891\n",
            "Epoch 78/125\n",
            "60000/60000 [==============================] - 269s 4ms/step - loss: 0.0372 - acc: 0.9883\n",
            "Epoch 79/125\n",
            "60000/60000 [==============================] - 270s 5ms/step - loss: 0.0373 - acc: 0.9883\n",
            "Epoch 80/125\n",
            "60000/60000 [==============================] - 271s 5ms/step - loss: 0.0353 - acc: 0.9891\n",
            "Epoch 81/125\n",
            "60000/60000 [==============================] - 270s 5ms/step - loss: 0.0354 - acc: 0.9893\n",
            "Epoch 82/125\n",
            "60000/60000 [==============================] - 267s 4ms/step - loss: 0.0357 - acc: 0.9888\n",
            "Epoch 83/125\n",
            "60000/60000 [==============================] - 269s 4ms/step - loss: 0.0347 - acc: 0.9888\n",
            "Epoch 84/125\n",
            "60000/60000 [==============================] - 271s 5ms/step - loss: 0.0331 - acc: 0.9897\n",
            "Epoch 85/125\n",
            "60000/60000 [==============================] - 271s 5ms/step - loss: 0.0326 - acc: 0.9902\n",
            "Epoch 86/125\n",
            "60000/60000 [==============================] - 269s 4ms/step - loss: 0.0338 - acc: 0.9892\n",
            "Epoch 87/125\n",
            "60000/60000 [==============================] - 270s 5ms/step - loss: 0.0327 - acc: 0.9898\n",
            "Epoch 88/125\n",
            "60000/60000 [==============================] - 270s 4ms/step - loss: 0.0336 - acc: 0.9894\n",
            "Epoch 89/125\n",
            "60000/60000 [==============================] - 271s 5ms/step - loss: 0.0322 - acc: 0.9900\n",
            "Epoch 90/125\n",
            "60000/60000 [==============================] - 269s 4ms/step - loss: 0.0308 - acc: 0.9902\n",
            "Epoch 91/125\n",
            "60000/60000 [==============================] - 269s 4ms/step - loss: 0.0321 - acc: 0.9904\n",
            "Epoch 92/125\n",
            "60000/60000 [==============================] - 271s 5ms/step - loss: 0.0318 - acc: 0.9900\n",
            "Epoch 93/125\n",
            "60000/60000 [==============================] - 267s 4ms/step - loss: 0.0312 - acc: 0.9906\n",
            "Epoch 94/125\n",
            "60000/60000 [==============================] - 269s 4ms/step - loss: 0.0308 - acc: 0.9904\n",
            "Epoch 95/125\n",
            "60000/60000 [==============================] - 270s 5ms/step - loss: 0.0301 - acc: 0.9909\n",
            "Epoch 96/125\n",
            "60000/60000 [==============================] - 269s 4ms/step - loss: 0.0299 - acc: 0.9906\n",
            "Epoch 97/125\n",
            "60000/60000 [==============================] - 269s 4ms/step - loss: 0.0289 - acc: 0.9910\n",
            "Epoch 98/125\n",
            "60000/60000 [==============================] - 268s 4ms/step - loss: 0.0286 - acc: 0.9913\n",
            "Epoch 99/125\n",
            "60000/60000 [==============================] - 270s 4ms/step - loss: 0.0303 - acc: 0.9905\n",
            "Epoch 100/125\n",
            "60000/60000 [==============================] - 268s 4ms/step - loss: 0.0315 - acc: 0.9901\n",
            "Epoch 101/125\n",
            "60000/60000 [==============================] - 274s 5ms/step - loss: 0.0284 - acc: 0.9913\n",
            "Epoch 102/125\n",
            "60000/60000 [==============================] - 282s 5ms/step - loss: 0.0277 - acc: 0.9914\n",
            "Epoch 103/125\n",
            "60000/60000 [==============================] - 283s 5ms/step - loss: 0.0302 - acc: 0.9905\n",
            "Epoch 104/125\n",
            "60000/60000 [==============================] - 281s 5ms/step - loss: 0.0271 - acc: 0.9914\n",
            "Epoch 105/125\n",
            "60000/60000 [==============================] - 283s 5ms/step - loss: 0.0296 - acc: 0.9907\n",
            "Epoch 106/125\n",
            "60000/60000 [==============================] - 283s 5ms/step - loss: 0.0289 - acc: 0.9910\n",
            "Epoch 107/125\n",
            "60000/60000 [==============================] - 283s 5ms/step - loss: 0.0267 - acc: 0.9915\n",
            "Epoch 108/125\n",
            "60000/60000 [==============================] - 282s 5ms/step - loss: 0.0284 - acc: 0.9910\n",
            "Epoch 109/125\n",
            "60000/60000 [==============================] - 284s 5ms/step - loss: 0.0295 - acc: 0.9906\n",
            "Epoch 110/125\n",
            "60000/60000 [==============================] - 283s 5ms/step - loss: 0.0284 - acc: 0.9913\n",
            "Epoch 111/125\n",
            "60000/60000 [==============================] - 282s 5ms/step - loss: 0.0296 - acc: 0.9907\n",
            "Epoch 112/125\n",
            "60000/60000 [==============================] - 284s 5ms/step - loss: 0.0265 - acc: 0.9916\n",
            "Epoch 113/125\n",
            "60000/60000 [==============================] - 284s 5ms/step - loss: 0.0245 - acc: 0.9923\n",
            "Epoch 114/125\n",
            "60000/60000 [==============================] - 283s 5ms/step - loss: 0.0244 - acc: 0.9926\n",
            "Epoch 115/125\n",
            "60000/60000 [==============================] - 283s 5ms/step - loss: 0.0259 - acc: 0.9919\n",
            "Epoch 116/125\n",
            "60000/60000 [==============================] - 283s 5ms/step - loss: 0.0236 - acc: 0.9928\n",
            "Epoch 117/125\n",
            "60000/60000 [==============================] - 282s 5ms/step - loss: 0.0259 - acc: 0.9915\n",
            "Epoch 118/125\n",
            "60000/60000 [==============================] - 283s 5ms/step - loss: 0.0238 - acc: 0.9925\n",
            "Epoch 119/125\n",
            "60000/60000 [==============================] - 281s 5ms/step - loss: 0.0238 - acc: 0.9924\n",
            "Epoch 120/125\n",
            "60000/60000 [==============================] - 282s 5ms/step - loss: 0.0252 - acc: 0.9920\n",
            "Epoch 121/125\n",
            "60000/60000 [==============================] - 282s 5ms/step - loss: 0.0250 - acc: 0.9919\n",
            "Epoch 122/125\n",
            "60000/60000 [==============================] - 282s 5ms/step - loss: 0.0259 - acc: 0.9919\n",
            "Epoch 123/125\n",
            "60000/60000 [==============================] - 284s 5ms/step - loss: 0.0224 - acc: 0.9931\n",
            "Epoch 124/125\n",
            "60000/60000 [==============================] - 282s 5ms/step - loss: 0.0237 - acc: 0.9925\n",
            "Epoch 125/125\n",
            "60000/60000 [==============================] - 279s 5ms/step - loss: 0.0238 - acc: 0.9924\n"
          ],
          "name": "stdout"
        },
        {
          "output_type": "execute_result",
          "data": {
            "text/plain": [
              "<keras.callbacks.History at 0x7f36aefdb0f0>"
            ]
          },
          "metadata": {
            "tags": []
          },
          "execution_count": 21
        }
      ]
    }
  ]
}