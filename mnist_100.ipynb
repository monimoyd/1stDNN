{
  "nbformat": 4,
  "nbformat_minor": 0,
  "metadata": {
    "colab": {
      "name": "mnist_100.ipynb",
      "version": "0.3.2",
      "provenance": [],
      "collapsed_sections": [],
      "include_colab_link": true
    },
    "kernelspec": {
      "name": "python3",
      "display_name": "Python 3"
    }
  },
  "cells": [
    {
      "cell_type": "markdown",
      "metadata": {
        "id": "view-in-github",
        "colab_type": "text"
      },
      "source": [
        "<a href=\"https://colab.research.google.com/github/monimoyd/1stDNN/blob/master/mnist_100.ipynb\" target=\"_parent\"><img src=\"https://colab.research.google.com/assets/colab-badge.svg\" alt=\"Open In Colab\"/></a>"
      ]
    },
    {
      "metadata": {
        "id": "5X6GQw-xXJ1k",
        "colab_type": "code",
        "outputId": "847b334b-9972-42b6-f010-8df2d3507aec",
        "colab": {
          "base_uri": "https://localhost:8080/",
          "height": 35
        }
      },
      "cell_type": "code",
      "source": [
        "# https://keras.io/\n",
        "!pip install -q keras\n",
        "import keras"
      ],
      "execution_count": 0,
      "outputs": [
        {
          "output_type": "stream",
          "text": [
            "Using TensorFlow backend.\n"
          ],
          "name": "stderr"
        }
      ]
    },
    {
      "metadata": {
        "id": "yUmQ7NbzXW_l",
        "colab_type": "code",
        "colab": {}
      },
      "cell_type": "code",
      "source": [
        "import numpy as np\n",
        "\n",
        "from keras.models import Sequential\n",
        "from keras.layers import Dense, Dropout, Activation, Flatten, Add\n",
        "from keras.layers import Convolution2D, MaxPooling2D,AveragePooling2D\n",
        "from keras.utils import np_utils\n",
        "\n",
        "from keras.datasets import mnist"
      ],
      "execution_count": 0,
      "outputs": []
    },
    {
      "metadata": {
        "id": "eKsikcHSXbIn",
        "colab_type": "code",
        "outputId": "f476c461-0c7c-4dc6-8224-7de428f5ea69",
        "colab": {
          "base_uri": "https://localhost:8080/",
          "height": 53
        }
      },
      "cell_type": "code",
      "source": [
        "(X_train, y_train), (X_test, y_test) = mnist.load_data()"
      ],
      "execution_count": 0,
      "outputs": [
        {
          "output_type": "stream",
          "text": [
            "Downloading data from https://s3.amazonaws.com/img-datasets/mnist.npz\n",
            "11493376/11490434 [==============================] - 0s 0us/step\n"
          ],
          "name": "stdout"
        }
      ]
    },
    {
      "metadata": {
        "id": "Hq-n2LD7Xr1V",
        "colab_type": "code",
        "outputId": "c33f78af-e87d-47a8-f3b4-2a6a076ba0d6",
        "colab": {
          "base_uri": "https://localhost:8080/",
          "height": 301
        }
      },
      "cell_type": "code",
      "source": [
        "print (X_train.shape)\n",
        "from matplotlib import pyplot as plt\n",
        "%matplotlib inline\n",
        "plt.imshow(X_train[0])"
      ],
      "execution_count": 0,
      "outputs": [
        {
          "output_type": "stream",
          "text": [
            "(60000, 28, 28)\n"
          ],
          "name": "stdout"
        },
        {
          "output_type": "execute_result",
          "data": {
            "text/plain": [
              "<matplotlib.image.AxesImage at 0x7f06c594a5c0>"
            ]
          },
          "metadata": {
            "tags": []
          },
          "execution_count": 4
        },
        {
          "output_type": "display_data",
          "data": {
            "image/png": "[encoded data removed]",
            "text/plain": [
              "<Figure size 432x288 with 1 Axes>"
            ]
          },
          "metadata": {
            "tags": []
          }
        }
      ]
    },
    {
      "metadata": {
        "id": "JXg9hX1AXyAc",
        "colab_type": "code",
        "colab": {}
      },
      "cell_type": "code",
      "source": [
        "X_train = X_train.reshape(X_train.shape[0], 28, 28,1)\n",
        "X_test = X_test.reshape(X_test.shape[0], 28, 28,1)"
      ],
      "execution_count": 0,
      "outputs": []
    },
    {
      "metadata": {
        "id": "RpSmfmD_X20G",
        "colab_type": "code",
        "colab": {}
      },
      "cell_type": "code",
      "source": [
        "X_train = X_train.astype('float32')\n",
        "X_test = X_test.astype('float32')\n",
        "X_train /= 255\n",
        "X_test /= 255"
      ],
      "execution_count": 0,
      "outputs": []
    },
    {
      "metadata": {
        "id": "7fJb7sYWX8tI",
        "colab_type": "code",
        "colab": {}
      },
      "cell_type": "code",
      "source": [
        "# Convert 1-dimensional class arrays to 10-dimensional class matrices\n",
        "Y_train = np_utils.to_categorical(y_train, 10)\n",
        "Y_test = np_utils.to_categorical(y_test, 10)"
      ],
      "execution_count": 0,
      "outputs": []
    },
    {
      "metadata": {
        "id": "OiXDIRCoYBPW",
        "colab_type": "code",
        "outputId": "3fcee6da-2bd5-4ad4-cbda-56913c22da28",
        "colab": {
          "base_uri": "https://localhost:8080/",
          "height": 199
        }
      },
      "cell_type": "code",
      "source": [
        "Y_train[:10]"
      ],
      "execution_count": 0,
      "outputs": [
        {
          "output_type": "execute_result",
          "data": {
            "text/plain": [
              "array([[0., 0., 0., 0., 0., 1., 0., 0., 0., 0.],\n",
              "       [1., 0., 0., 0., 0., 0., 0., 0., 0., 0.],\n",
              "       [0., 0., 0., 0., 1., 0., 0., 0., 0., 0.],\n",
              "       [0., 1., 0., 0., 0., 0., 0., 0., 0., 0.],\n",
              "       [0., 0., 0., 0., 0., 0., 0., 0., 0., 1.],\n",
              "       [0., 0., 1., 0., 0., 0., 0., 0., 0., 0.],\n",
              "       [0., 1., 0., 0., 0., 0., 0., 0., 0., 0.],\n",
              "       [0., 0., 0., 1., 0., 0., 0., 0., 0., 0.],\n",
              "       [0., 1., 0., 0., 0., 0., 0., 0., 0., 0.],\n",
              "       [0., 0., 0., 0., 1., 0., 0., 0., 0., 0.]], dtype=float32)"
            ]
          },
          "metadata": {
            "tags": []
          },
          "execution_count": 8
        }
      ]
    },
    {
      "metadata": {
        "id": "Exd_FO4IYOQq",
        "colab_type": "code",
        "outputId": "49f5b7c5-c750-468b-c920-1eb8e20643de",
        "colab": {
          "base_uri": "https://localhost:8080/",
          "height": 292
        }
      },
      "cell_type": "code",
      "source": [
        "from keras.layers import Activation\n",
        "from keras.layers import AveragePooling2D\n",
        "model = Sequential()\n",
        "\n",
        "\n",
        "model.add(Convolution2D(32, 3, 3, activation='relu', input_shape=(28,28,1)))\n",
        "model.add(Convolution2D(64, 3, 3, activation='relu'))\n",
        "model.add(Convolution2D(64, 1, activation='relu'))\n",
        "model.add(MaxPooling2D())\n",
        "model.add(Convolution2D(64, 3, 3, activation='relu'))\n",
        "model.add(Convolution2D(32, 1, activation='relu'))\n",
        "model.add(Convolution2D(32, 3, 3, activation='relu'))\n",
        "model.add(Convolution2D(32, 3, 3, activation='relu'))\n",
        "model.add(Convolution2D(32, 3, 3, activation='relu'))\n",
        "model.add(Convolution2D(32, 3, 3, activation='relu'))\n",
        "model.add(AveragePooling2D())\n",
        "model.add(Convolution2D(10, 1))\n",
        "\n",
        "\n",
        "model.add(Flatten())\n",
        "model.add(Activation('softmax'))"
      ],
      "execution_count": 0,
      "outputs": [
        {
          "output_type": "stream",
          "text": [
            "/usr/local/lib/python3.6/dist-packages/ipykernel_launcher.py:6: UserWarning: Update your `Conv2D` call to the Keras 2 API: `Conv2D(32, (3, 3), activation=\"relu\", input_shape=(28, 28, 1...)`\n",
            "  \n",
            "/usr/local/lib/python3.6/dist-packages/ipykernel_launcher.py:7: UserWarning: Update your `Conv2D` call to the Keras 2 API: `Conv2D(64, (3, 3), activation=\"relu\")`\n",
            "  import sys\n",
            "/usr/local/lib/python3.6/dist-packages/ipykernel_launcher.py:10: UserWarning: Update your `Conv2D` call to the Keras 2 API: `Conv2D(64, (3, 3), activation=\"relu\")`\n",
            "  # Remove the CWD from sys.path while we load stuff.\n",
            "/usr/local/lib/python3.6/dist-packages/ipykernel_launcher.py:12: UserWarning: Update your `Conv2D` call to the Keras 2 API: `Conv2D(32, (3, 3), activation=\"relu\")`\n",
            "  if sys.path[0] == '':\n",
            "/usr/local/lib/python3.6/dist-packages/ipykernel_launcher.py:13: UserWarning: Update your `Conv2D` call to the Keras 2 API: `Conv2D(32, (3, 3), activation=\"relu\")`\n",
            "  del sys.path[0]\n",
            "/usr/local/lib/python3.6/dist-packages/ipykernel_launcher.py:14: UserWarning: Update your `Conv2D` call to the Keras 2 API: `Conv2D(32, (3, 3), activation=\"relu\")`\n",
            "  \n",
            "/usr/local/lib/python3.6/dist-packages/ipykernel_launcher.py:15: UserWarning: Update your `Conv2D` call to the Keras 2 API: `Conv2D(32, (3, 3), activation=\"relu\")`\n",
            "  from ipykernel import kernelapp as app\n"
          ],
          "name": "stderr"
        }
      ]
    },
    {
      "metadata": {
        "id": "5-U2GO3mYSyc",
        "colab_type": "code",
        "outputId": "7d2531bb-2ba6-41c0-f71c-5640111213a3",
        "colab": {
          "base_uri": "https://localhost:8080/",
          "height": 655
        }
      },
      "cell_type": "code",
      "source": [
        "model.summary()"
      ],
      "execution_count": 0,
      "outputs": [
        {
          "output_type": "stream",
          "text": [
            "_________________________________________________________________\n",
            "Layer (type)                 Output Shape              Param #   \n",
            "=================================================================\n",
            "conv2d_22 (Conv2D)           (None, 26, 26, 32)        320       \n",
            "_________________________________________________________________\n",
            "conv2d_23 (Conv2D)           (None, 24, 24, 64)        18496     \n",
            "_________________________________________________________________\n",
            "conv2d_24 (Conv2D)           (None, 24, 24, 64)        4160      \n",
            "_________________________________________________________________\n",
            "max_pooling2d_3 (MaxPooling2 (None, 12, 12, 64)        0         \n",
            "_________________________________________________________________\n",
            "conv2d_25 (Conv2D)           (None, 10, 10, 64)        36928     \n",
            "_________________________________________________________________\n",
            "conv2d_26 (Conv2D)           (None, 10, 10, 32)        2080      \n",
            "_________________________________________________________________\n",
            "conv2d_27 (Conv2D)           (None, 8, 8, 32)          9248      \n",
            "_________________________________________________________________\n",
            "conv2d_28 (Conv2D)           (None, 6, 6, 32)          9248      \n",
            "_________________________________________________________________\n",
            "conv2d_29 (Conv2D)           (None, 4, 4, 32)          9248      \n",
            "_________________________________________________________________\n",
            "conv2d_30 (Conv2D)           (None, 2, 2, 32)          9248      \n",
            "_________________________________________________________________\n",
            "average_pooling2d_3 (Average (None, 1, 1, 32)          0         \n",
            "_________________________________________________________________\n",
            "conv2d_31 (Conv2D)           (None, 1, 1, 10)          330       \n",
            "_________________________________________________________________\n",
            "flatten_3 (Flatten)          (None, 10)                0         \n",
            "_________________________________________________________________\n",
            "activation_3 (Activation)    (None, 10)                0         \n",
            "=================================================================\n",
            "Total params: 99,306\n",
            "Trainable params: 99,306\n",
            "Non-trainable params: 0\n",
            "_________________________________________________________________\n"
          ],
          "name": "stdout"
        }
      ]
    },
    {
      "metadata": {
        "id": "zdbPynTxYX5_",
        "colab_type": "code",
        "colab": {}
      },
      "cell_type": "code",
      "source": [
        "model.compile(loss='categorical_crossentropy',\n",
        "             optimizer='adam',\n",
        "             metrics=['accuracy'])"
      ],
      "execution_count": 0,
      "outputs": []
    },
    {
      "metadata": {
        "id": "PKP50T_oYm2V",
        "colab_type": "code",
        "outputId": "36ee7f43-631b-4721-ea17-876ca40f9209",
        "colab": {
          "base_uri": "https://localhost:8080/",
          "height": 4646
        }
      },
      "cell_type": "code",
      "source": [
        "model.fit(X_train, Y_train, batch_size=2048, nb_epoch=125, verbose=1)"
      ],
      "execution_count": 0,
      "outputs": [
        {
          "output_type": "stream",
          "text": [
            "/usr/local/lib/python3.6/dist-packages/ipykernel_launcher.py:1: UserWarning: The `nb_epoch` argument in `fit` has been renamed `epochs`.\n",
            "  \"\"\"Entry point for launching an IPython kernel.\n"
          ],
          "name": "stderr"
        },
        {
          "output_type": "stream",
          "text": [
            "Epoch 1/125\n",
            "60000/60000 [==============================] - 294s 5ms/step - loss: 1.4681 - acc: 0.4988\n",
            "Epoch 2/125\n",
            "60000/60000 [==============================] - 295s 5ms/step - loss: 0.3767 - acc: 0.8828\n",
            "Epoch 3/125\n",
            "60000/60000 [==============================] - 295s 5ms/step - loss: 0.2057 - acc: 0.9364\n",
            "Epoch 4/125\n",
            "60000/60000 [==============================] - 297s 5ms/step - loss: 0.1355 - acc: 0.9590\n",
            "Epoch 5/125\n",
            "60000/60000 [==============================] - 296s 5ms/step - loss: 0.0972 - acc: 0.9705\n",
            "Epoch 6/125\n",
            "60000/60000 [==============================] - 297s 5ms/step - loss: 0.0842 - acc: 0.9751\n",
            "Epoch 7/125\n",
            "60000/60000 [==============================] - 297s 5ms/step - loss: 0.0748 - acc: 0.9771\n",
            "Epoch 8/125\n",
            "60000/60000 [==============================] - 296s 5ms/step - loss: 0.0616 - acc: 0.9811\n",
            "Epoch 9/125\n",
            "60000/60000 [==============================] - 296s 5ms/step - loss: 0.0654 - acc: 0.9802\n",
            "Epoch 10/125\n",
            "60000/60000 [==============================] - 299s 5ms/step - loss: 0.0585 - acc: 0.9819\n",
            "Epoch 11/125\n",
            "60000/60000 [==============================] - 297s 5ms/step - loss: 0.0517 - acc: 0.9843\n",
            "Epoch 12/125\n",
            "60000/60000 [==============================] - 296s 5ms/step - loss: 0.0536 - acc: 0.9839\n",
            "Epoch 13/125\n",
            "60000/60000 [==============================] - 295s 5ms/step - loss: 0.0467 - acc: 0.9857\n",
            "Epoch 14/125\n",
            "60000/60000 [==============================] - 301s 5ms/step - loss: 0.0435 - acc: 0.9867\n",
            "Epoch 15/125\n",
            "60000/60000 [==============================] - 296s 5ms/step - loss: 0.0475 - acc: 0.9851\n",
            "Epoch 16/125\n",
            "60000/60000 [==============================] - 295s 5ms/step - loss: 0.0404 - acc: 0.9871\n",
            "Epoch 17/125\n",
            "60000/60000 [==============================] - 292s 5ms/step - loss: 0.0343 - acc: 0.9894\n",
            "Epoch 18/125\n",
            "60000/60000 [==============================] - 291s 5ms/step - loss: 0.0317 - acc: 0.9902\n",
            "Epoch 19/125\n",
            "60000/60000 [==============================] - 290s 5ms/step - loss: 0.0324 - acc: 0.9899\n",
            "Epoch 20/125\n",
            "60000/60000 [==============================] - 292s 5ms/step - loss: 0.0314 - acc: 0.9903\n",
            "Epoch 21/125\n",
            "60000/60000 [==============================] - 291s 5ms/step - loss: 0.0286 - acc: 0.9912\n",
            "Epoch 22/125\n",
            "60000/60000 [==============================] - 290s 5ms/step - loss: 0.0291 - acc: 0.9907\n",
            "Epoch 23/125\n",
            "60000/60000 [==============================] - 290s 5ms/step - loss: 0.0264 - acc: 0.9912\n",
            "Epoch 24/125\n",
            "60000/60000 [==============================] - 293s 5ms/step - loss: 0.0261 - acc: 0.9916\n",
            "Epoch 25/125\n",
            "60000/60000 [==============================] - 291s 5ms/step - loss: 0.0303 - acc: 0.9903\n",
            "Epoch 26/125\n",
            "60000/60000 [==============================] - 292s 5ms/step - loss: 0.0239 - acc: 0.9925\n",
            "Epoch 27/125\n",
            "60000/60000 [==============================] - 292s 5ms/step - loss: 0.0237 - acc: 0.9924\n",
            "Epoch 28/125\n",
            "60000/60000 [==============================] - 292s 5ms/step - loss: 0.0234 - acc: 0.9925\n",
            "Epoch 29/125\n",
            "60000/60000 [==============================] - 290s 5ms/step - loss: 0.0226 - acc: 0.9929\n",
            "Epoch 30/125\n",
            "60000/60000 [==============================] - 282s 5ms/step - loss: 0.0203 - acc: 0.9938\n",
            "Epoch 31/125\n",
            "60000/60000 [==============================] - 283s 5ms/step - loss: 0.0182 - acc: 0.9942\n",
            "Epoch 32/125\n",
            "60000/60000 [==============================] - 283s 5ms/step - loss: 0.0202 - acc: 0.9932\n",
            "Epoch 33/125\n",
            "60000/60000 [==============================] - 283s 5ms/step - loss: 0.0179 - acc: 0.9946\n",
            "Epoch 34/125\n",
            "60000/60000 [==============================] - 285s 5ms/step - loss: 0.0167 - acc: 0.9947\n",
            "Epoch 35/125\n",
            "60000/60000 [==============================] - 287s 5ms/step - loss: 0.0166 - acc: 0.9946\n",
            "Epoch 36/125\n",
            "60000/60000 [==============================] - 287s 5ms/step - loss: 0.0219 - acc: 0.9930\n",
            "Epoch 37/125\n",
            "60000/60000 [==============================] - 286s 5ms/step - loss: 0.0198 - acc: 0.9938\n",
            "Epoch 38/125\n",
            "60000/60000 [==============================] - 286s 5ms/step - loss: 0.0161 - acc: 0.9948\n",
            "Epoch 39/125\n",
            "60000/60000 [==============================] - 299s 5ms/step - loss: 0.0160 - acc: 0.9948\n",
            "Epoch 40/125\n",
            "60000/60000 [==============================] - 297s 5ms/step - loss: 0.0146 - acc: 0.9955\n",
            "Epoch 41/125\n",
            "60000/60000 [==============================] - 298s 5ms/step - loss: 0.0143 - acc: 0.9955\n",
            "Epoch 42/125\n",
            "60000/60000 [==============================] - 298s 5ms/step - loss: 0.0166 - acc: 0.9940\n",
            "Epoch 43/125\n",
            "60000/60000 [==============================] - 294s 5ms/step - loss: 0.0137 - acc: 0.9955\n",
            "Epoch 44/125\n",
            "60000/60000 [==============================] - 296s 5ms/step - loss: 0.0130 - acc: 0.9958\n",
            "Epoch 45/125\n",
            "60000/60000 [==============================] - 303s 5ms/step - loss: 0.0133 - acc: 0.9956\n",
            "Epoch 46/125\n",
            "60000/60000 [==============================] - 301s 5ms/step - loss: 0.0111 - acc: 0.9965\n",
            "Epoch 47/125\n",
            "60000/60000 [==============================] - 300s 5ms/step - loss: 0.0106 - acc: 0.9965\n",
            "Epoch 48/125\n",
            "60000/60000 [==============================] - 299s 5ms/step - loss: 0.0138 - acc: 0.9954\n",
            "Epoch 49/125\n",
            "60000/60000 [==============================] - 297s 5ms/step - loss: 0.0103 - acc: 0.9967\n",
            "Epoch 50/125\n",
            "60000/60000 [==============================] - 296s 5ms/step - loss: 0.0105 - acc: 0.9965\n",
            "Epoch 51/125\n",
            "60000/60000 [==============================] - 300s 5ms/step - loss: 0.0098 - acc: 0.9968\n",
            "Epoch 52/125\n",
            "60000/60000 [==============================] - 298s 5ms/step - loss: 0.0074 - acc: 0.9977\n",
            "Epoch 53/125\n",
            "60000/60000 [==============================] - 293s 5ms/step - loss: 0.0078 - acc: 0.9975\n",
            "Epoch 54/125\n",
            "60000/60000 [==============================] - 291s 5ms/step - loss: 0.0077 - acc: 0.9977\n",
            "Epoch 55/125\n",
            "60000/60000 [==============================] - 294s 5ms/step - loss: 0.0079 - acc: 0.9973\n",
            "Epoch 56/125\n",
            "60000/60000 [==============================] - 295s 5ms/step - loss: 0.0075 - acc: 0.9977\n",
            "Epoch 57/125\n",
            "60000/60000 [==============================] - 291s 5ms/step - loss: 0.0062 - acc: 0.9980\n",
            "Epoch 58/125\n",
            "60000/60000 [==============================] - 291s 5ms/step - loss: 0.0063 - acc: 0.9980\n",
            "Epoch 59/125\n",
            "60000/60000 [==============================] - 292s 5ms/step - loss: 0.0137 - acc: 0.9952\n",
            "Epoch 60/125\n",
            "60000/60000 [==============================] - 289s 5ms/step - loss: 0.0114 - acc: 0.9963\n",
            "Epoch 61/125\n",
            "60000/60000 [==============================] - 292s 5ms/step - loss: 0.0065 - acc: 0.9980\n",
            "Epoch 62/125\n",
            "60000/60000 [==============================] - 294s 5ms/step - loss: 0.0079 - acc: 0.9975\n",
            "Epoch 63/125\n",
            "60000/60000 [==============================] - 295s 5ms/step - loss: 0.0054 - acc: 0.9983\n",
            "Epoch 64/125\n",
            "60000/60000 [==============================] - 298s 5ms/step - loss: 0.0056 - acc: 0.9982\n",
            "Epoch 65/125\n",
            "60000/60000 [==============================] - 298s 5ms/step - loss: 0.0051 - acc: 0.9985\n",
            "Epoch 66/125\n",
            "60000/60000 [==============================] - 298s 5ms/step - loss: 0.0067 - acc: 0.9978\n",
            "Epoch 67/125\n",
            "60000/60000 [==============================] - 296s 5ms/step - loss: 0.0094 - acc: 0.9965\n",
            "Epoch 68/125\n",
            "60000/60000 [==============================] - 297s 5ms/step - loss: 0.0052 - acc: 0.9982\n",
            "Epoch 69/125\n",
            "60000/60000 [==============================] - 293s 5ms/step - loss: 0.0050 - acc: 0.9982\n",
            "Epoch 70/125\n",
            "60000/60000 [==============================] - 293s 5ms/step - loss: 0.0043 - acc: 0.9987\n",
            "Epoch 71/125\n",
            "60000/60000 [==============================] - 291s 5ms/step - loss: 0.0035 - acc: 0.9990\n",
            "Epoch 72/125\n",
            "60000/60000 [==============================] - 287s 5ms/step - loss: 0.0039 - acc: 0.9988\n",
            "Epoch 73/125\n",
            "60000/60000 [==============================] - 288s 5ms/step - loss: 0.0050 - acc: 0.9982\n",
            "Epoch 74/125\n",
            "60000/60000 [==============================] - 294s 5ms/step - loss: 0.0064 - acc: 0.9980\n",
            "Epoch 75/125\n",
            "60000/60000 [==============================] - 292s 5ms/step - loss: 0.0052 - acc: 0.9983\n",
            "Epoch 76/125\n",
            "60000/60000 [==============================] - 291s 5ms/step - loss: 0.0053 - acc: 0.9984\n",
            "Epoch 77/125\n",
            "60000/60000 [==============================] - 296s 5ms/step - loss: 0.0060 - acc: 0.9981\n",
            "Epoch 78/125\n",
            "60000/60000 [==============================] - 297s 5ms/step - loss: 0.0037 - acc: 0.9988\n",
            "Epoch 79/125\n",
            "60000/60000 [==============================] - 298s 5ms/step - loss: 0.0037 - acc: 0.9988\n",
            "Epoch 80/125\n",
            "60000/60000 [==============================] - 294s 5ms/step - loss: 0.0046 - acc: 0.9985\n",
            "Epoch 81/125\n",
            "60000/60000 [==============================] - 294s 5ms/step - loss: 0.0073 - acc: 0.9975\n",
            "Epoch 82/125\n",
            "60000/60000 [==============================] - 290s 5ms/step - loss: 0.0061 - acc: 0.9978\n",
            "Epoch 83/125\n",
            "60000/60000 [==============================] - 290s 5ms/step - loss: 0.0060 - acc: 0.9980\n",
            "Epoch 84/125\n",
            "60000/60000 [==============================] - 293s 5ms/step - loss: 0.0054 - acc: 0.9981\n",
            "Epoch 85/125\n",
            "60000/60000 [==============================] - 291s 5ms/step - loss: 0.0039 - acc: 0.9987\n",
            "Epoch 86/125\n",
            "60000/60000 [==============================] - 297s 5ms/step - loss: 0.0033 - acc: 0.9990\n",
            "Epoch 87/125\n",
            "60000/60000 [==============================] - 297s 5ms/step - loss: 0.0035 - acc: 0.9987\n",
            "Epoch 88/125\n",
            "60000/60000 [==============================] - 296s 5ms/step - loss: 0.0029 - acc: 0.9991\n",
            "Epoch 89/125\n",
            "60000/60000 [==============================] - 296s 5ms/step - loss: 0.0027 - acc: 0.9993\n",
            "Epoch 90/125\n",
            "60000/60000 [==============================] - 294s 5ms/step - loss: 0.0014 - acc: 0.9998\n",
            "Epoch 91/125\n",
            "60000/60000 [==============================] - 293s 5ms/step - loss: 8.0014e-04 - acc: 0.9999\n",
            "Epoch 92/125\n",
            "60000/60000 [==============================] - 293s 5ms/step - loss: 9.2717e-04 - acc: 0.9998\n",
            "Epoch 93/125\n",
            "60000/60000 [==============================] - 293s 5ms/step - loss: 6.4275e-04 - acc: 0.9999\n",
            "Epoch 94/125\n",
            "60000/60000 [==============================] - 295s 5ms/step - loss: 7.5014e-04 - acc: 0.9999\n",
            "Epoch 95/125\n",
            "60000/60000 [==============================] - 291s 5ms/step - loss: 5.5570e-04 - acc: 0.9999\n",
            "Epoch 96/125\n",
            "60000/60000 [==============================] - 290s 5ms/step - loss: 5.6465e-04 - acc: 0.9999\n",
            "Epoch 97/125\n",
            "60000/60000 [==============================] - 290s 5ms/step - loss: 7.7434e-04 - acc: 0.9999\n",
            "Epoch 98/125\n",
            "60000/60000 [==============================] - 287s 5ms/step - loss: 8.7566e-04 - acc: 0.9998\n",
            "Epoch 99/125\n",
            "60000/60000 [==============================] - 287s 5ms/step - loss: 6.3088e-04 - acc: 0.9999\n",
            "Epoch 100/125\n",
            "60000/60000 [==============================] - 289s 5ms/step - loss: 4.2799e-04 - acc: 1.0000\n",
            "Epoch 101/125\n",
            "60000/60000 [==============================] - 293s 5ms/step - loss: 3.7621e-04 - acc: 1.0000\n",
            "Epoch 102/125\n",
            "60000/60000 [==============================] - 291s 5ms/step - loss: 3.6879e-04 - acc: 1.0000\n",
            "Epoch 103/125\n",
            "60000/60000 [==============================] - 292s 5ms/step - loss: 3.4469e-04 - acc: 1.0000\n",
            "Epoch 104/125\n",
            "60000/60000 [==============================] - 288s 5ms/step - loss: 3.2973e-04 - acc: 1.0000\n",
            "Epoch 105/125\n",
            "60000/60000 [==============================] - 290s 5ms/step - loss: 3.1795e-04 - acc: 1.0000\n",
            "Epoch 106/125\n",
            "60000/60000 [==============================] - 290s 5ms/step - loss: 3.1199e-04 - acc: 1.0000\n",
            "Epoch 107/125\n",
            "60000/60000 [==============================] - 290s 5ms/step - loss: 3.0775e-04 - acc: 1.0000\n",
            "Epoch 108/125\n",
            "60000/60000 [==============================] - 289s 5ms/step - loss: 3.0564e-04 - acc: 1.0000\n",
            "Epoch 109/125\n",
            "60000/60000 [==============================] - 293s 5ms/step - loss: 3.0550e-04 - acc: 1.0000\n",
            "Epoch 110/125\n",
            "60000/60000 [==============================] - 292s 5ms/step - loss: 3.0620e-04 - acc: 1.0000\n",
            "Epoch 111/125\n",
            "60000/60000 [==============================] - 288s 5ms/step - loss: 3.0007e-04 - acc: 1.0000\n",
            "Epoch 112/125\n",
            "60000/60000 [==============================] - 287s 5ms/step - loss: 2.9920e-04 - acc: 1.0000\n",
            "Epoch 113/125\n",
            "60000/60000 [==============================] - 286s 5ms/step - loss: 2.9730e-04 - acc: 1.0000\n",
            "Epoch 114/125\n",
            "60000/60000 [==============================] - 287s 5ms/step - loss: 2.9517e-04 - acc: 1.0000\n",
            "Epoch 115/125\n",
            "60000/60000 [==============================] - 291s 5ms/step - loss: 2.9369e-04 - acc: 1.0000\n",
            "Epoch 116/125\n",
            "60000/60000 [==============================] - 293s 5ms/step - loss: 2.9586e-04 - acc: 1.0000\n",
            "Epoch 117/125\n",
            "60000/60000 [==============================] - 293s 5ms/step - loss: 3.0261e-04 - acc: 1.0000\n",
            "Epoch 118/125\n",
            "60000/60000 [==============================] - 292s 5ms/step - loss: 2.9861e-04 - acc: 1.0000\n",
            "Epoch 119/125\n",
            "60000/60000 [==============================] - 291s 5ms/step - loss: 2.9287e-04 - acc: 1.0000\n",
            "Epoch 120/125\n",
            "60000/60000 [==============================] - 293s 5ms/step - loss: 2.9564e-04 - acc: 1.0000\n",
            "Epoch 121/125\n",
            "60000/60000 [==============================] - 292s 5ms/step - loss: 2.8968e-04 - acc: 1.0000\n",
            "Epoch 122/125\n",
            "60000/60000 [==============================] - 293s 5ms/step - loss: 2.8879e-04 - acc: 1.0000\n",
            "Epoch 123/125\n",
            "60000/60000 [==============================] - 289s 5ms/step - loss: 2.8742e-04 - acc: 1.0000\n",
            "Epoch 124/125\n",
            "60000/60000 [==============================] - 288s 5ms/step - loss: 2.8713e-04 - acc: 1.0000\n",
            "Epoch 125/125\n",
            "60000/60000 [==============================] - 288s 5ms/step - loss: 2.8652e-04 - acc: 1.0000\n"
          ],
          "name": "stdout"
        },
        {
          "output_type": "execute_result",
          "data": {
            "text/plain": [
              "<keras.callbacks.History at 0x7f06c389cb00>"
            ]
          },
          "metadata": {
            "tags": []
          },
          "execution_count": 21
        }
      ]
    }
  ]
}