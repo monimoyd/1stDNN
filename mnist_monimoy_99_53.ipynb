{
  "nbformat": 4,
  "nbformat_minor": 0,
  "metadata": {
    "colab": {
      "name": "mnist_monimoy_99.53.ipynb",
      "version": "0.3.2",
      "provenance": [],
      "collapsed_sections": [],
      "include_colab_link": true
    },
    "kernelspec": {
      "name": "python3",
      "display_name": "Python 3"
    },
    "accelerator": "GPU"
  },
  "cells": [
    {
      "cell_type": "markdown",
      "metadata": {
        "id": "view-in-github",
        "colab_type": "text"
      },
      "source": [
        "<a href=\"https://colab.research.google.com/github/monimoyd/1stDNN/blob/master/mnist_monimoy_99_53.ipynb\" target=\"_parent\"><img src=\"https://colab.research.google.com/assets/colab-badge.svg\" alt=\"Open In Colab\"/></a>"
      ]
    },
    {
      "cell_type": "code",
      "metadata": {
        "id": "5X6GQw-xXJ1k",
        "colab_type": "code",
        "outputId": "ffa96d7b-310c-4aaa-8d13-06b5decf5d1d",
        "colab": {
          "base_uri": "https://localhost:8080/",
          "height": 35
        }
      },
      "source": [
        "# https://keras.io/\n",
        "!pip install -q keras\n",
        "import keras"
      ],
      "execution_count": 1,
      "outputs": [
        {
          "output_type": "stream",
          "text": [
            "Using TensorFlow backend.\n"
          ],
          "name": "stderr"
        }
      ]
    },
    {
      "cell_type": "code",
      "metadata": {
        "id": "yUmQ7NbzXW_l",
        "colab_type": "code",
        "colab": {}
      },
      "source": [
        "import numpy as np\n",
        "\n",
        "from keras.models import Sequential\n",
        "from keras.layers import Dense, Dropout, Activation, Flatten, Add\n",
        "from keras.layers import Convolution2D, MaxPooling2D,AveragePooling2D\n",
        "from keras.utils import np_utils\n",
        "\n",
        "from keras.datasets import mnist"
      ],
      "execution_count": 0,
      "outputs": []
    },
    {
      "cell_type": "code",
      "metadata": {
        "id": "eKsikcHSXbIn",
        "colab_type": "code",
        "colab": {}
      },
      "source": [
        "(X_train, y_train), (X_test, y_test) = mnist.load_data()"
      ],
      "execution_count": 0,
      "outputs": []
    },
    {
      "cell_type": "code",
      "metadata": {
        "id": "Hq-n2LD7Xr1V",
        "colab_type": "code",
        "outputId": "afeffe80-c5de-4ea3-9377-92b8ac2ccec5",
        "colab": {
          "base_uri": "https://localhost:8080/",
          "height": 305
        }
      },
      "source": [
        "print (X_train.shape)\n",
        "from matplotlib import pyplot as plt\n",
        "%matplotlib inline\n",
        "plt.imshow(X_train[0])"
      ],
      "execution_count": 4,
      "outputs": [
        {
          "output_type": "stream",
          "text": [
            "(60000, 28, 28)\n"
          ],
          "name": "stdout"
        },
        {
          "output_type": "execute_result",
          "data": {
            "text/plain": [
              "<matplotlib.image.AxesImage at 0x7fb9a1825860>"
            ]
          },
          "metadata": {
            "tags": []
          },
          "execution_count": 4
        },
        {
          "output_type": "display_data",
          "data": {
            "image/png": "[encoded data removed]",
            "text/plain": [
              "<Figure size 432x288 with 1 Axes>"
            ]
          },
          "metadata": {
            "tags": []
          }
        }
      ]
    },
    {
      "cell_type": "code",
      "metadata": {
        "id": "JXg9hX1AXyAc",
        "colab_type": "code",
        "colab": {}
      },
      "source": [
        "X_train = X_train.reshape(X_train.shape[0], 28, 28,1)\n",
        "X_test = X_test.reshape(X_test.shape[0], 28, 28,1)"
      ],
      "execution_count": 0,
      "outputs": []
    },
    {
      "cell_type": "code",
      "metadata": {
        "id": "RpSmfmD_X20G",
        "colab_type": "code",
        "colab": {}
      },
      "source": [
        "X_train = X_train.astype('float32')\n",
        "X_test = X_test.astype('float32')\n",
        "X_train /= 255\n",
        "X_test /= 255"
      ],
      "execution_count": 0,
      "outputs": []
    },
    {
      "cell_type": "code",
      "metadata": {
        "id": "7fJb7sYWX8tI",
        "colab_type": "code",
        "colab": {}
      },
      "source": [
        "# Convert 1-dimensional class arrays to 10-dimensional class matrices\n",
        "Y_train = np_utils.to_categorical(y_train, 10)\n",
        "Y_test = np_utils.to_categorical(y_test, 10)"
      ],
      "execution_count": 0,
      "outputs": []
    },
    {
      "cell_type": "code",
      "metadata": {
        "id": "OiXDIRCoYBPW",
        "colab_type": "code",
        "outputId": "6c93afd4-2d71-478b-e9ff-51ac63950f85",
        "colab": {
          "base_uri": "https://localhost:8080/",
          "height": 199
        }
      },
      "source": [
        "Y_train[:10]"
      ],
      "execution_count": 8,
      "outputs": [
        {
          "output_type": "execute_result",
          "data": {
            "text/plain": [
              "array([[0., 0., 0., 0., 0., 1., 0., 0., 0., 0.],\n",
              "       [1., 0., 0., 0., 0., 0., 0., 0., 0., 0.],\n",
              "       [0., 0., 0., 0., 1., 0., 0., 0., 0., 0.],\n",
              "       [0., 1., 0., 0., 0., 0., 0., 0., 0., 0.],\n",
              "       [0., 0., 0., 0., 0., 0., 0., 0., 0., 1.],\n",
              "       [0., 0., 1., 0., 0., 0., 0., 0., 0., 0.],\n",
              "       [0., 1., 0., 0., 0., 0., 0., 0., 0., 0.],\n",
              "       [0., 0., 0., 1., 0., 0., 0., 0., 0., 0.],\n",
              "       [0., 1., 0., 0., 0., 0., 0., 0., 0., 0.],\n",
              "       [0., 0., 0., 0., 1., 0., 0., 0., 0., 0.]], dtype=float32)"
            ]
          },
          "metadata": {
            "tags": []
          },
          "execution_count": 8
        }
      ]
    },
    {
      "cell_type": "code",
      "metadata": {
        "id": "Exd_FO4IYOQq",
        "colab_type": "code",
        "outputId": "ed097c42-6a73-4a3b-cc5f-1f2595dbf94e",
        "colab": {
          "base_uri": "https://localhost:8080/",
          "height": 347
        }
      },
      "source": [
        "from keras.layers import Activation\n",
        "from keras.layers import AveragePooling2D\n",
        "model = Sequential()\n",
        "\n",
        "\n",
        "model.add(Convolution2D(32, 3, 3, activation='relu', input_shape=(28,28,1)))\n",
        "model.add(Convolution2D(16, 1, activation='relu'))\n",
        "model.add(Convolution2D(16, 3, 3, activation='relu'))\n",
        "model.add(MaxPooling2D())\n",
        "model.add(Convolution2D(16, 3, 3, activation='relu'))\n",
        "model.add(Convolution2D(16, 3, 3, activation='relu'))\n",
        "model.add(Convolution2D(16, 3, 3, activation='relu'))\n",
        "model.add(Convolution2D(16, 3, 3, activation='relu'))\n",
        "model.add(Convolution2D(16, 3, 3, activation='relu'))\n",
        "model.add(AveragePooling2D())\n",
        "model.add(Convolution2D(10, 1))\n",
        "\n",
        "\n",
        "model.add(Flatten())\n",
        "model.add(Activation('softmax'))"
      ],
      "execution_count": 9,
      "outputs": [
        {
          "output_type": "stream",
          "text": [
            "WARNING:tensorflow:From /usr/local/lib/python3.6/dist-packages/tensorflow/python/framework/op_def_library.py:263: colocate_with (from tensorflow.python.framework.ops) is deprecated and will be removed in a future version.\n",
            "Instructions for updating:\n",
            "Colocations handled automatically by placer.\n"
          ],
          "name": "stdout"
        },
        {
          "output_type": "stream",
          "text": [
            "/usr/local/lib/python3.6/dist-packages/ipykernel_launcher.py:6: UserWarning: Update your `Conv2D` call to the Keras 2 API: `Conv2D(32, (3, 3), activation=\"relu\", input_shape=(28, 28, 1...)`\n",
            "  \n",
            "/usr/local/lib/python3.6/dist-packages/ipykernel_launcher.py:8: UserWarning: Update your `Conv2D` call to the Keras 2 API: `Conv2D(16, (3, 3), activation=\"relu\")`\n",
            "  \n",
            "/usr/local/lib/python3.6/dist-packages/ipykernel_launcher.py:10: UserWarning: Update your `Conv2D` call to the Keras 2 API: `Conv2D(16, (3, 3), activation=\"relu\")`\n",
            "  # Remove the CWD from sys.path while we load stuff.\n",
            "/usr/local/lib/python3.6/dist-packages/ipykernel_launcher.py:11: UserWarning: Update your `Conv2D` call to the Keras 2 API: `Conv2D(16, (3, 3), activation=\"relu\")`\n",
            "  # This is added back by InteractiveShellApp.init_path()\n",
            "/usr/local/lib/python3.6/dist-packages/ipykernel_launcher.py:12: UserWarning: Update your `Conv2D` call to the Keras 2 API: `Conv2D(16, (3, 3), activation=\"relu\")`\n",
            "  if sys.path[0] == '':\n",
            "/usr/local/lib/python3.6/dist-packages/ipykernel_launcher.py:13: UserWarning: Update your `Conv2D` call to the Keras 2 API: `Conv2D(16, (3, 3), activation=\"relu\")`\n",
            "  del sys.path[0]\n",
            "/usr/local/lib/python3.6/dist-packages/ipykernel_launcher.py:14: UserWarning: Update your `Conv2D` call to the Keras 2 API: `Conv2D(16, (3, 3), activation=\"relu\")`\n",
            "  \n"
          ],
          "name": "stderr"
        }
      ]
    },
    {
      "cell_type": "code",
      "metadata": {
        "id": "5-U2GO3mYSyc",
        "colab_type": "code",
        "outputId": "dfa767ab-77c3-4613-8eac-b90673d3fcbc",
        "colab": {
          "base_uri": "https://localhost:8080/",
          "height": 618
        }
      },
      "source": [
        "model.summary()"
      ],
      "execution_count": 10,
      "outputs": [
        {
          "output_type": "stream",
          "text": [
            "_________________________________________________________________\n",
            "Layer (type)                 Output Shape              Param #   \n",
            "=================================================================\n",
            "conv2d_1 (Conv2D)            (None, 26, 26, 32)        320       \n",
            "_________________________________________________________________\n",
            "conv2d_2 (Conv2D)            (None, 26, 26, 16)        528       \n",
            "_________________________________________________________________\n",
            "conv2d_3 (Conv2D)            (None, 24, 24, 16)        2320      \n",
            "_________________________________________________________________\n",
            "max_pooling2d_1 (MaxPooling2 (None, 12, 12, 16)        0         \n",
            "_________________________________________________________________\n",
            "conv2d_4 (Conv2D)            (None, 10, 10, 16)        2320      \n",
            "_________________________________________________________________\n",
            "conv2d_5 (Conv2D)            (None, 8, 8, 16)          2320      \n",
            "_________________________________________________________________\n",
            "conv2d_6 (Conv2D)            (None, 6, 6, 16)          2320      \n",
            "_________________________________________________________________\n",
            "conv2d_7 (Conv2D)            (None, 4, 4, 16)          2320      \n",
            "_________________________________________________________________\n",
            "conv2d_8 (Conv2D)            (None, 2, 2, 16)          2320      \n",
            "_________________________________________________________________\n",
            "average_pooling2d_1 (Average (None, 1, 1, 16)          0         \n",
            "_________________________________________________________________\n",
            "conv2d_9 (Conv2D)            (None, 1, 1, 10)          170       \n",
            "_________________________________________________________________\n",
            "flatten_1 (Flatten)          (None, 10)                0         \n",
            "_________________________________________________________________\n",
            "activation_1 (Activation)    (None, 10)                0         \n",
            "=================================================================\n",
            "Total params: 14,938\n",
            "Trainable params: 14,938\n",
            "Non-trainable params: 0\n",
            "_________________________________________________________________\n"
          ],
          "name": "stdout"
        }
      ]
    },
    {
      "cell_type": "code",
      "metadata": {
        "id": "zdbPynTxYX5_",
        "colab_type": "code",
        "colab": {}
      },
      "source": [
        "model.compile(loss='categorical_crossentropy',\n",
        "             optimizer='adam',\n",
        "             metrics=['accuracy'])"
      ],
      "execution_count": 0,
      "outputs": []
    },
    {
      "cell_type": "code",
      "metadata": {
        "id": "PKP50T_oYm2V",
        "colab_type": "code",
        "outputId": "6bed2f22-7272-48c1-d45d-c8087a91a878",
        "colab": {
          "base_uri": "https://localhost:8080/",
          "height": 4700
        }
      },
      "source": [
        "model.fit(X_train, Y_train, batch_size=2048, nb_epoch=125, verbose=1)"
      ],
      "execution_count": 12,
      "outputs": [
        {
          "output_type": "stream",
          "text": [
            "WARNING:tensorflow:From /usr/local/lib/python3.6/dist-packages/tensorflow/python/ops/math_ops.py:3066: to_int32 (from tensorflow.python.ops.math_ops) is deprecated and will be removed in a future version.\n",
            "Instructions for updating:\n",
            "Use tf.cast instead.\n"
          ],
          "name": "stdout"
        },
        {
          "output_type": "stream",
          "text": [
            "/usr/local/lib/python3.6/dist-packages/ipykernel_launcher.py:1: UserWarning: The `nb_epoch` argument in `fit` has been renamed `epochs`.\n",
            "  \"\"\"Entry point for launching an IPython kernel.\n"
          ],
          "name": "stderr"
        },
        {
          "output_type": "stream",
          "text": [
            "Epoch 1/125\n",
            "60000/60000 [==============================] - 5s 86us/step - loss: 2.0889 - acc: 0.2193\n",
            "Epoch 2/125\n",
            "60000/60000 [==============================] - 2s 26us/step - loss: 1.2921 - acc: 0.5714\n",
            "Epoch 3/125\n",
            "60000/60000 [==============================] - 2s 26us/step - loss: 0.8535 - acc: 0.7075\n",
            "Epoch 4/125\n",
            "60000/60000 [==============================] - 2s 26us/step - loss: 0.5658 - acc: 0.8218\n",
            "Epoch 5/125\n",
            "60000/60000 [==============================] - 2s 26us/step - loss: 0.4246 - acc: 0.8702\n",
            "Epoch 6/125\n",
            "60000/60000 [==============================] - 2s 26us/step - loss: 0.3412 - acc: 0.8965\n",
            "Epoch 7/125\n",
            "60000/60000 [==============================] - 2s 26us/step - loss: 0.2762 - acc: 0.9172\n",
            "Epoch 8/125\n",
            "60000/60000 [==============================] - 2s 26us/step - loss: 0.2326 - acc: 0.9300\n",
            "Epoch 9/125\n",
            "60000/60000 [==============================] - 2s 26us/step - loss: 0.2057 - acc: 0.9377\n",
            "Epoch 10/125\n",
            "60000/60000 [==============================] - 2s 26us/step - loss: 0.1807 - acc: 0.9453\n",
            "Epoch 11/125\n",
            "60000/60000 [==============================] - 2s 26us/step - loss: 0.1697 - acc: 0.9493\n",
            "Epoch 12/125\n",
            "60000/60000 [==============================] - 2s 26us/step - loss: 0.1563 - acc: 0.9539\n",
            "Epoch 13/125\n",
            "60000/60000 [==============================] - 2s 26us/step - loss: 0.1451 - acc: 0.9563\n",
            "Epoch 14/125\n",
            "60000/60000 [==============================] - 2s 26us/step - loss: 0.1375 - acc: 0.9592\n",
            "Epoch 15/125\n",
            "60000/60000 [==============================] - 2s 26us/step - loss: 0.1299 - acc: 0.9608\n",
            "Epoch 16/125\n",
            "60000/60000 [==============================] - 2s 26us/step - loss: 0.1154 - acc: 0.9652\n",
            "Epoch 17/125\n",
            "60000/60000 [==============================] - 2s 26us/step - loss: 0.1151 - acc: 0.9653\n",
            "Epoch 18/125\n",
            "60000/60000 [==============================] - 2s 26us/step - loss: 0.1084 - acc: 0.9678\n",
            "Epoch 19/125\n",
            "60000/60000 [==============================] - 2s 26us/step - loss: 0.1011 - acc: 0.9702\n",
            "Epoch 20/125\n",
            "60000/60000 [==============================] - 2s 26us/step - loss: 0.0972 - acc: 0.9710\n",
            "Epoch 21/125\n",
            "60000/60000 [==============================] - 2s 27us/step - loss: 0.0908 - acc: 0.9726\n",
            "Epoch 22/125\n",
            "60000/60000 [==============================] - 2s 26us/step - loss: 0.0897 - acc: 0.9728\n",
            "Epoch 23/125\n",
            "60000/60000 [==============================] - 2s 27us/step - loss: 0.0908 - acc: 0.9726\n",
            "Epoch 24/125\n",
            "60000/60000 [==============================] - 2s 26us/step - loss: 0.0911 - acc: 0.9720\n",
            "Epoch 25/125\n",
            "60000/60000 [==============================] - 2s 26us/step - loss: 0.0840 - acc: 0.9742\n",
            "Epoch 26/125\n",
            "60000/60000 [==============================] - 2s 26us/step - loss: 0.0788 - acc: 0.9759\n",
            "Epoch 27/125\n",
            "60000/60000 [==============================] - 2s 26us/step - loss: 0.0770 - acc: 0.9764\n",
            "Epoch 28/125\n",
            "60000/60000 [==============================] - 2s 27us/step - loss: 0.0727 - acc: 0.9778\n",
            "Epoch 29/125\n",
            "60000/60000 [==============================] - 2s 27us/step - loss: 0.0703 - acc: 0.9785\n",
            "Epoch 30/125\n",
            "60000/60000 [==============================] - 2s 27us/step - loss: 0.0700 - acc: 0.9790\n",
            "Epoch 31/125\n",
            "60000/60000 [==============================] - 2s 27us/step - loss: 0.0684 - acc: 0.9795\n",
            "Epoch 32/125\n",
            "60000/60000 [==============================] - 2s 27us/step - loss: 0.0640 - acc: 0.9806\n",
            "Epoch 33/125\n",
            "60000/60000 [==============================] - 2s 27us/step - loss: 0.0646 - acc: 0.9800\n",
            "Epoch 34/125\n",
            "60000/60000 [==============================] - 2s 27us/step - loss: 0.0628 - acc: 0.9806\n",
            "Epoch 35/125\n",
            "60000/60000 [==============================] - 2s 27us/step - loss: 0.0626 - acc: 0.9811\n",
            "Epoch 36/125\n",
            "60000/60000 [==============================] - 2s 27us/step - loss: 0.0590 - acc: 0.9819\n",
            "Epoch 37/125\n",
            "60000/60000 [==============================] - 2s 27us/step - loss: 0.0563 - acc: 0.9830\n",
            "Epoch 38/125\n",
            "60000/60000 [==============================] - 2s 27us/step - loss: 0.0564 - acc: 0.9825\n",
            "Epoch 39/125\n",
            "60000/60000 [==============================] - 2s 27us/step - loss: 0.0541 - acc: 0.9834\n",
            "Epoch 40/125\n",
            "60000/60000 [==============================] - 2s 27us/step - loss: 0.0552 - acc: 0.9831\n",
            "Epoch 41/125\n",
            "60000/60000 [==============================] - 2s 27us/step - loss: 0.0527 - acc: 0.9838\n",
            "Epoch 42/125\n",
            "60000/60000 [==============================] - 2s 27us/step - loss: 0.0516 - acc: 0.9843\n",
            "Epoch 43/125\n",
            "60000/60000 [==============================] - 2s 27us/step - loss: 0.0490 - acc: 0.9853\n",
            "Epoch 44/125\n",
            "60000/60000 [==============================] - 2s 27us/step - loss: 0.0505 - acc: 0.9843\n",
            "Epoch 45/125\n",
            "60000/60000 [==============================] - 2s 27us/step - loss: 0.0477 - acc: 0.9855\n",
            "Epoch 46/125\n",
            "60000/60000 [==============================] - 2s 27us/step - loss: 0.0478 - acc: 0.9850\n",
            "Epoch 47/125\n",
            "60000/60000 [==============================] - 2s 27us/step - loss: 0.0478 - acc: 0.9853\n",
            "Epoch 48/125\n",
            "60000/60000 [==============================] - 2s 27us/step - loss: 0.0461 - acc: 0.9859\n",
            "Epoch 49/125\n",
            "60000/60000 [==============================] - 2s 27us/step - loss: 0.0455 - acc: 0.9859\n",
            "Epoch 50/125\n",
            "60000/60000 [==============================] - 2s 27us/step - loss: 0.0438 - acc: 0.9866\n",
            "Epoch 51/125\n",
            "60000/60000 [==============================] - 2s 27us/step - loss: 0.0423 - acc: 0.9871\n",
            "Epoch 52/125\n",
            "60000/60000 [==============================] - 2s 27us/step - loss: 0.0425 - acc: 0.9865\n",
            "Epoch 53/125\n",
            "60000/60000 [==============================] - 2s 27us/step - loss: 0.0416 - acc: 0.9874\n",
            "Epoch 54/125\n",
            "60000/60000 [==============================] - 2s 27us/step - loss: 0.0399 - acc: 0.9879\n",
            "Epoch 55/125\n",
            "60000/60000 [==============================] - 2s 27us/step - loss: 0.0374 - acc: 0.9888\n",
            "Epoch 56/125\n",
            "60000/60000 [==============================] - 2s 27us/step - loss: 0.0402 - acc: 0.9880\n",
            "Epoch 57/125\n",
            "60000/60000 [==============================] - 2s 27us/step - loss: 0.0413 - acc: 0.9869\n",
            "Epoch 58/125\n",
            "60000/60000 [==============================] - 2s 27us/step - loss: 0.0397 - acc: 0.9877\n",
            "Epoch 59/125\n",
            "60000/60000 [==============================] - 2s 27us/step - loss: 0.0372 - acc: 0.9887\n",
            "Epoch 60/125\n",
            "60000/60000 [==============================] - 2s 27us/step - loss: 0.0375 - acc: 0.9886\n",
            "Epoch 61/125\n",
            "60000/60000 [==============================] - 2s 27us/step - loss: 0.0367 - acc: 0.9886\n",
            "Epoch 62/125\n",
            "60000/60000 [==============================] - 2s 27us/step - loss: 0.0374 - acc: 0.9886\n",
            "Epoch 63/125\n",
            "60000/60000 [==============================] - 2s 27us/step - loss: 0.0365 - acc: 0.9885\n",
            "Epoch 64/125\n",
            "60000/60000 [==============================] - 2s 27us/step - loss: 0.0339 - acc: 0.9898\n",
            "Epoch 65/125\n",
            "60000/60000 [==============================] - 2s 27us/step - loss: 0.0338 - acc: 0.9900\n",
            "Epoch 66/125\n",
            "60000/60000 [==============================] - 2s 27us/step - loss: 0.0340 - acc: 0.9898\n",
            "Epoch 67/125\n",
            "60000/60000 [==============================] - 2s 27us/step - loss: 0.0314 - acc: 0.9904\n",
            "Epoch 68/125\n",
            "60000/60000 [==============================] - 2s 27us/step - loss: 0.0324 - acc: 0.9899\n",
            "Epoch 69/125\n",
            "60000/60000 [==============================] - 2s 27us/step - loss: 0.0340 - acc: 0.9892\n",
            "Epoch 70/125\n",
            "60000/60000 [==============================] - 2s 27us/step - loss: 0.0304 - acc: 0.9912\n",
            "Epoch 71/125\n",
            "60000/60000 [==============================] - 2s 27us/step - loss: 0.0303 - acc: 0.9908\n",
            "Epoch 72/125\n",
            "60000/60000 [==============================] - 2s 27us/step - loss: 0.0306 - acc: 0.9909\n",
            "Epoch 73/125\n",
            "60000/60000 [==============================] - 2s 27us/step - loss: 0.0318 - acc: 0.9902\n",
            "Epoch 74/125\n",
            "60000/60000 [==============================] - 2s 27us/step - loss: 0.0308 - acc: 0.9904\n",
            "Epoch 75/125\n",
            "60000/60000 [==============================] - 2s 27us/step - loss: 0.0291 - acc: 0.9913\n",
            "Epoch 76/125\n",
            "60000/60000 [==============================] - 2s 27us/step - loss: 0.0278 - acc: 0.9917\n",
            "Epoch 77/125\n",
            "60000/60000 [==============================] - 2s 27us/step - loss: 0.0277 - acc: 0.9917\n",
            "Epoch 78/125\n",
            "60000/60000 [==============================] - 2s 27us/step - loss: 0.0306 - acc: 0.9906\n",
            "Epoch 79/125\n",
            "60000/60000 [==============================] - 2s 27us/step - loss: 0.0313 - acc: 0.9902\n",
            "Epoch 80/125\n",
            "60000/60000 [==============================] - 2s 27us/step - loss: 0.0294 - acc: 0.9911\n",
            "Epoch 81/125\n",
            "60000/60000 [==============================] - 2s 27us/step - loss: 0.0284 - acc: 0.9914\n",
            "Epoch 82/125\n",
            "60000/60000 [==============================] - 2s 27us/step - loss: 0.0315 - acc: 0.9898\n",
            "Epoch 83/125\n",
            "60000/60000 [==============================] - 2s 27us/step - loss: 0.0277 - acc: 0.9914\n",
            "Epoch 84/125\n",
            "60000/60000 [==============================] - 2s 27us/step - loss: 0.0264 - acc: 0.9917\n",
            "Epoch 85/125\n",
            "60000/60000 [==============================] - 2s 27us/step - loss: 0.0250 - acc: 0.9925\n",
            "Epoch 86/125\n",
            "60000/60000 [==============================] - 2s 27us/step - loss: 0.0250 - acc: 0.9926\n",
            "Epoch 87/125\n",
            "60000/60000 [==============================] - 2s 27us/step - loss: 0.0238 - acc: 0.9930\n",
            "Epoch 88/125\n",
            "60000/60000 [==============================] - 2s 27us/step - loss: 0.0242 - acc: 0.9924\n",
            "Epoch 89/125\n",
            "60000/60000 [==============================] - 2s 27us/step - loss: 0.0265 - acc: 0.9920\n",
            "Epoch 90/125\n",
            "60000/60000 [==============================] - 2s 27us/step - loss: 0.0241 - acc: 0.9925\n",
            "Epoch 91/125\n",
            "60000/60000 [==============================] - 2s 27us/step - loss: 0.0243 - acc: 0.9924\n",
            "Epoch 92/125\n",
            "60000/60000 [==============================] - 2s 27us/step - loss: 0.0246 - acc: 0.9927\n",
            "Epoch 93/125\n",
            "60000/60000 [==============================] - 2s 27us/step - loss: 0.0241 - acc: 0.9929\n",
            "Epoch 94/125\n",
            "60000/60000 [==============================] - 2s 27us/step - loss: 0.0213 - acc: 0.9936\n",
            "Epoch 95/125\n",
            "60000/60000 [==============================] - 2s 27us/step - loss: 0.0224 - acc: 0.9931\n",
            "Epoch 96/125\n",
            "60000/60000 [==============================] - 2s 27us/step - loss: 0.0236 - acc: 0.9926\n",
            "Epoch 97/125\n",
            "60000/60000 [==============================] - 2s 27us/step - loss: 0.0215 - acc: 0.9934\n",
            "Epoch 98/125\n",
            "60000/60000 [==============================] - 2s 27us/step - loss: 0.0220 - acc: 0.9932\n",
            "Epoch 99/125\n",
            "60000/60000 [==============================] - 2s 27us/step - loss: 0.0230 - acc: 0.9928\n",
            "Epoch 100/125\n",
            "60000/60000 [==============================] - 2s 27us/step - loss: 0.0237 - acc: 0.9930\n",
            "Epoch 101/125\n",
            "60000/60000 [==============================] - 2s 27us/step - loss: 0.0204 - acc: 0.9937\n",
            "Epoch 102/125\n",
            "60000/60000 [==============================] - 2s 27us/step - loss: 0.0218 - acc: 0.9933\n",
            "Epoch 103/125\n",
            "60000/60000 [==============================] - 2s 27us/step - loss: 0.0208 - acc: 0.9935\n",
            "Epoch 104/125\n",
            "60000/60000 [==============================] - 2s 27us/step - loss: 0.0193 - acc: 0.9941\n",
            "Epoch 105/125\n",
            "60000/60000 [==============================] - 2s 27us/step - loss: 0.0185 - acc: 0.9943\n",
            "Epoch 106/125\n",
            "60000/60000 [==============================] - 2s 27us/step - loss: 0.0197 - acc: 0.9937\n",
            "Epoch 107/125\n",
            "60000/60000 [==============================] - 2s 27us/step - loss: 0.0199 - acc: 0.9937\n",
            "Epoch 108/125\n",
            "60000/60000 [==============================] - 2s 27us/step - loss: 0.0188 - acc: 0.9943\n",
            "Epoch 109/125\n",
            "60000/60000 [==============================] - 2s 27us/step - loss: 0.0182 - acc: 0.9944\n",
            "Epoch 110/125\n",
            "60000/60000 [==============================] - 2s 27us/step - loss: 0.0189 - acc: 0.9941\n",
            "Epoch 111/125\n",
            "60000/60000 [==============================] - 2s 27us/step - loss: 0.0181 - acc: 0.9949\n",
            "Epoch 112/125\n",
            "60000/60000 [==============================] - 2s 27us/step - loss: 0.0172 - acc: 0.9947\n",
            "Epoch 113/125\n",
            "60000/60000 [==============================] - 2s 27us/step - loss: 0.0161 - acc: 0.9953\n",
            "Epoch 114/125\n",
            "60000/60000 [==============================] - 2s 27us/step - loss: 0.0191 - acc: 0.9943\n",
            "Epoch 115/125\n",
            "60000/60000 [==============================] - 2s 27us/step - loss: 0.0180 - acc: 0.9944\n",
            "Epoch 116/125\n",
            "60000/60000 [==============================] - 2s 27us/step - loss: 0.0220 - acc: 0.9930\n",
            "Epoch 117/125\n",
            "60000/60000 [==============================] - 2s 27us/step - loss: 0.0216 - acc: 0.9930\n",
            "Epoch 118/125\n",
            "60000/60000 [==============================] - 2s 27us/step - loss: 0.0202 - acc: 0.9932\n",
            "Epoch 119/125\n",
            "60000/60000 [==============================] - 2s 27us/step - loss: 0.0179 - acc: 0.9942\n",
            "Epoch 120/125\n",
            "60000/60000 [==============================] - 2s 27us/step - loss: 0.0180 - acc: 0.9942\n",
            "Epoch 121/125\n",
            "60000/60000 [==============================] - 2s 27us/step - loss: 0.0190 - acc: 0.9938\n",
            "Epoch 122/125\n",
            "60000/60000 [==============================] - 2s 27us/step - loss: 0.0168 - acc: 0.9949\n",
            "Epoch 123/125\n",
            "60000/60000 [==============================] - 2s 27us/step - loss: 0.0158 - acc: 0.9951\n",
            "Epoch 124/125\n",
            "60000/60000 [==============================] - 2s 27us/step - loss: 0.0179 - acc: 0.9942\n",
            "Epoch 125/125\n",
            "60000/60000 [==============================] - 2s 27us/step - loss: 0.0173 - acc: 0.9944\n"
          ],
          "name": "stdout"
        },
        {
          "output_type": "execute_result",
          "data": {
            "text/plain": [
              "<keras.callbacks.History at 0x7fb9a1825d30>"
            ]
          },
          "metadata": {
            "tags": []
          },
          "execution_count": 12
        }
      ]
    },
    {
      "cell_type": "code",
      "metadata": {
        "id": "yfEVZWnmlIqJ",
        "colab_type": "code",
        "colab": {
          "base_uri": "https://localhost:8080/",
          "height": 128
        },
        "outputId": "82e43577-df9d-4d20-9e3c-215f9a7b76fc"
      },
      "source": [
        "# Mount the google drive\n",
        "from google.colab import drive\n",
        "drive.mount('/content/drive')"
      ],
      "execution_count": 13,
      "outputs": [
        {
          "output_type": "stream",
          "text": [
            "Go to this URL in a browser: https://accounts.google.com/o/oauth2/auth?client_id=947318989803-6bn6qk8qdgf4n4g3pfee6491hc0brc4i.apps.googleusercontent.com&redirect_uri=urn%3Aietf%3Awg%3Aoauth%3A2.0%3Aoob&scope=email%20https%3A%2F%2Fwww.googleapis.com%2Fauth%2Fdocs.test%20https%3A%2F%2Fwww.googleapis.com%2Fauth%2Fdrive%20https%3A%2F%2Fwww.googleapis.com%2Fauth%2Fdrive.photos.readonly%20https%3A%2F%2Fwww.googleapis.com%2Fauth%2Fpeopleapi.readonly&response_type=code\n",
            "\n",
            "Enter your authorization code:\n",
            "··········\n",
            "Mounted at /content/drive\n"
          ],
          "name": "stdout"
        }
      ]
    },
    {
      "cell_type": "code",
      "metadata": {
        "id": "WYBOFd-Ilhax",
        "colab_type": "code",
        "colab": {}
      },
      "source": [
        "# Save the model\n",
        "model.save(\"/content/drive/My Drive/mnist_final_monimoy.h5\")"
      ],
      "execution_count": 0,
      "outputs": []
    }
  ]
}